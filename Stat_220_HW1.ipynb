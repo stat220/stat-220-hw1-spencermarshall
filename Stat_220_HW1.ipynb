{
  "cells": [
    {
      "cell_type": "markdown",
      "metadata": {
        "id": "LbBadci5LMD9"
      },
      "source": [
        "[![Open in Colab](https://colab.research.google.com/assets/colab-badge.svg)](https://colab.research.google.com/github/drbob-richardson/stat220/blob/main/Assignments/Stat_220_HW1.ipynb)\n"
      ]
    },
    {
      "cell_type": "markdown",
      "metadata": {
        "id": "rAHSgD3t8Oct"
      },
      "source": [
        "**Problem 1**. Give an example of a variable that is (a) categorical; (b) quantitative; (c) discrete; (d) continuous.\n",
        "\n"
      ]
    },
    {
      "cell_type": "markdown",
      "metadata": {
        "id": "dsfbC4NlASWt"
      },
      "source": [
        "a)Religion    \n",
        "\n",
        "b)Population of Provo, UT\n",
        "\n",
        "c)Number of monitors\n",
        "\n",
        "d)Height (in inches)"
      ]
    },
    {
      "cell_type": "markdown",
      "metadata": {
        "id": "724wPOyj8SMA"
      },
      "source": [
        "**Problem 2**. Analyze the Carbon_West data file using the following code."
      ]
    },
    {
      "cell_type": "code",
      "execution_count": null,
      "metadata": {
        "id": "dVCbggdPLMEB"
      },
      "outputs": [],
      "source": [
        "import pandas as pd\n",
        "import matplotlib.pyplot as plt\n",
        "carbon_west = pd.read_fwf(\"https://stat4ds.rwth-aachen.de/data/Carbon_West.dat\")\n"
      ]
    },
    {
      "cell_type": "markdown",
      "metadata": {
        "id": "8eVNIOzIBLvz"
      },
      "source": [
        "Part a. Construct a histogram of CO2 emissions."
      ]
    },
    {
      "cell_type": "code",
      "execution_count": null,
      "metadata": {
        "id": "hpYwEy9D6uCb",
        "colab": {
          "base_uri": "https://localhost:8080/",
          "height": 489
        },
        "outputId": "1306666c-eb2a-4e01-be06-2f420737a759"
      },
      "outputs": [
        {
          "output_type": "execute_result",
          "data": {
            "text/plain": [
              "Text(0, 0.5, 'Frequency')"
            ]
          },
          "metadata": {},
          "execution_count": 20
        },
        {
          "output_type": "display_data",
          "data": {
            "text/plain": [
              "<Figure size 640x480 with 1 Axes>"
            ],
            "image/png": "[encoded data removed]"
          },
          "metadata": {}
        }
      ],
      "source": [
        "plt.hist(carbon_west['CO2'])\n",
        "plt.title('Histogram of CO2')\n",
        "plt.xlabel('CO2 Emissions')\n",
        "plt.ylabel('Frequency')\n",
        "\n"
      ]
    },
    {
      "cell_type": "markdown",
      "metadata": {
        "id": "okwY6u3RA2HW"
      },
      "source": [
        "Part b. Find the mean, median, and standard deviation."
      ]
    },
    {
      "cell_type": "code",
      "execution_count": null,
      "metadata": {
        "id": "zRgquQXDBU7d",
        "colab": {
          "base_uri": "https://localhost:8080/"
        },
        "outputId": "5ab95d81-3088-4b94-c4b5-86abcbb351f8"
      },
      "outputs": [
        {
          "output_type": "stream",
          "name": "stdout",
          "text": [
            "Mean: \n",
            "6.717142857142858\n",
            "\n",
            "Median: \n",
            "5.9\n",
            "\n",
            "Standard Deviation: \n",
            "3.3569493954627134\n"
          ]
        }
      ],
      "source": [
        "data = carbon_west['CO2']\n",
        "print(\"Mean: \")\n",
        "print(data.mean())\n",
        "print(\"\\nMedian: \")\n",
        "print(data.median())\n",
        "print(\"\\nStandard Deviation: \")\n",
        "print(data.std())"
      ]
    },
    {
      "cell_type": "markdown",
      "metadata": {
        "id": "51Jc1C0G8pyj"
      },
      "source": [
        "**Problem 3**. Read in the murder data set using the following code. The variable murder is the murder rate (per 100,000 population) for each state in the U.S. in 2017 according to the FBI Uniform Crime Reports. At first, do not use the observation for D.C. (DC)."
      ]
    },
    {
      "cell_type": "code",
      "execution_count": null,
      "metadata": {
        "id": "BvdTQwQqLMED"
      },
      "outputs": [],
      "source": [
        "murders = pd.read_fwf(\"https://stat4ds.rwth-aachen.de/data/Murder.dat\")"
      ]
    },
    {
      "cell_type": "markdown",
      "metadata": {
        "id": "GZZLzlxUBHNq"
      },
      "source": [
        "Part a. Find the mean and standard deviation for murders without D.C."
      ]
    },
    {
      "cell_type": "code",
      "execution_count": null,
      "metadata": {
        "id": "aWW3ZbwCBfNI",
        "colab": {
          "base_uri": "https://localhost:8080/"
        },
        "outputId": "c913b63d-763b-47be-cd3c-89434da2ff3f"
      },
      "outputs": [
        {
          "output_type": "stream",
          "name": "stdout",
          "text": [
            "Mean and Standard Deviation without DC\n",
            "\n",
            "Mean without DC: \n",
            "4.874\n",
            "\n",
            "Standard Deviation without DC:\n",
            "2.586291174793806\n"
          ]
        }
      ],
      "source": [
        "new_df = murders[murders['state'] != 'DC']\n",
        "murder_stats_withoutDC = new_df['murder']\n",
        "print(\"Mean and Standard Deviation without DC\")\n",
        "print(\"\\nMean without DC: \")\n",
        "print(murder_stats_withoutDC.mean())\n",
        "print(\"\\nStandard Deviation without DC:\")\n",
        "print(murder_stats_withoutDC.std())"
      ]
    },
    {
      "cell_type": "markdown",
      "metadata": {
        "id": "i2g3hF1gBfmV"
      },
      "source": [
        "Part b. Find the five-number  summary without D.C."
      ]
    },
    {
      "cell_type": "code",
      "execution_count": null,
      "metadata": {
        "id": "JHUzgc_CBkuo",
        "colab": {
          "base_uri": "https://localhost:8080/",
          "height": 352
        },
        "outputId": "aa3827a5-2e99-4565-959c-8d0cac056d43"
      },
      "outputs": [
        {
          "output_type": "stream",
          "name": "stdout",
          "text": [
            "Five number summary:\n"
          ]
        },
        {
          "output_type": "execute_result",
          "data": {
            "text/plain": [
              "count    50.000000\n",
              "mean      4.874000\n",
              "std       2.586291\n",
              "min       1.000000\n",
              "25%       2.625000\n",
              "50%       4.850000\n",
              "75%       6.175000\n",
              "max      12.400000\n",
              "Name: murder, dtype: float64"
            ],
            "text/html": [
              "<div>\n",
              "<style scoped>\n",
              "    .dataframe tbody tr th:only-of-type {\n",
              "        vertical-align: middle;\n",
              "    }\n",
              "\n",
              "    .dataframe tbody tr th {\n",
              "        vertical-align: top;\n",
              "    }\n",
              "\n",
              "    .dataframe thead th {\n",
              "        text-align: right;\n",
              "    }\n",
              "</style>\n",
              "<table border=\"1\" class=\"dataframe\">\n",
              "  <thead>\n",
              "    <tr style=\"text-align: right;\">\n",
              "      <th></th>\n",
              "      <th>murder</th>\n",
              "    </tr>\n",
              "  </thead>\n",
              "  <tbody>\n",
              "    <tr>\n",
              "      <th>count</th>\n",
              "      <td>50.000000</td>\n",
              "    </tr>\n",
              "    <tr>\n",
              "      <th>mean</th>\n",
              "      <td>4.874000</td>\n",
              "    </tr>\n",
              "    <tr>\n",
              "      <th>std</th>\n",
              "      <td>2.586291</td>\n",
              "    </tr>\n",
              "    <tr>\n",
              "      <th>min</th>\n",
              "      <td>1.000000</td>\n",
              "    </tr>\n",
              "    <tr>\n",
              "      <th>25%</th>\n",
              "      <td>2.625000</td>\n",
              "    </tr>\n",
              "    <tr>\n",
              "      <th>50%</th>\n",
              "      <td>4.850000</td>\n",
              "    </tr>\n",
              "    <tr>\n",
              "      <th>75%</th>\n",
              "      <td>6.175000</td>\n",
              "    </tr>\n",
              "    <tr>\n",
              "      <th>max</th>\n",
              "      <td>12.400000</td>\n",
              "    </tr>\n",
              "  </tbody>\n",
              "</table>\n",
              "</div><br><label><b>dtype:</b> float64</label>"
            ]
          },
          "metadata": {},
          "execution_count": 6
        }
      ],
      "source": [
        "print(\"Five number summary:\")\n",
        "murder_stats_withoutDC.describe()"
      ]
    },
    {
      "cell_type": "markdown",
      "metadata": {
        "id": "StEDIf2eBlEo"
      },
      "source": [
        "Part c. Now include the observation for D.C. and recalculate the mean, median, and five-number summary. What is affected more by this outlier: The mean or the median? The range or the inter-quartile range?"
      ]
    },
    {
      "cell_type": "code",
      "execution_count": null,
      "metadata": {
        "id": "0E-QkG4K85Ti",
        "colab": {
          "base_uri": "https://localhost:8080/"
        },
        "outputId": "dcf0e251-0b4b-485a-88a9-5470780a0f47"
      },
      "outputs": [
        {
          "output_type": "stream",
          "name": "stdout",
          "text": [
            "Mean with DC: \n",
            "5.252941176470588\n",
            "\n",
            "Median with DC: \n",
            "5.0\n",
            "\n",
            "Five number summary: \n",
            "count    51.000000\n",
            "mean      5.252941\n",
            "std       3.725391\n",
            "min       1.000000\n",
            "25%       2.650000\n",
            "50%       5.000000\n",
            "75%       6.450000\n",
            "max      24.200000\n",
            "Name: murder, dtype: float64\n"
          ]
        }
      ],
      "source": [
        "murder_stats_withALL = murders['murder']\n",
        "print(\"Mean with DC: \")\n",
        "print(murder_stats_withALL.mean())\n",
        "print(\"\\nMedian with DC: \")\n",
        "print(murder_stats_withALL.median())\n",
        "print(\"\\nFive number summary: \")\n",
        "print(murder_stats_withALL.describe())"
      ]
    },
    {
      "cell_type": "markdown",
      "source": [
        "When we include the Washington DC statistic **the mean moves a lot more than the median.** The mean moves from 4.87 to 5.25 (a jump of 0.38) and the median moves from 4.85 to 5.00 (a jump of 0.15). So although both increase by a noticably large amount the mean is affected more by including DC.\n",
        "\n",
        "Pertaining to the range and IQR, **the range is more affected by including DC**. The range goes from 11.4 to 23.2 (a jump of 11.8) whereas the IQR jumps from 3.55 to 3.8 (a jump of 0.25). So while both do increase the overall range significantly jumps, probably because we have a new max which is DC which is close to double what the old max is. And while the Q1 and Q3 do increase somewhat, it's not as much as the max."
      ],
      "metadata": {
        "id": "WAUT8FXOg5iE"
      }
    },
    {
      "cell_type": "markdown",
      "metadata": {
        "id": "XSUrzIUN9Usb"
      },
      "source": [
        "**Problem 4**. Read in the Houses data file using the following code.  The variables include price (thousands of dollars), size (square feet), tax bill (dollars), number of bathrooms, number of bedrooms, and whether the house is new (1 = yes, 0 = no) for 100 home sales in Gainesville, Florida. Let\n",
        "y = selling price and x = size of home."
      ]
    },
    {
      "cell_type": "code",
      "execution_count": null,
      "metadata": {
        "id": "yq2ieq09LMEE",
        "outputId": "59d2d7e5-bee8-4c73-9f3f-3e690aa2b1d4",
        "colab": {
          "base_uri": "https://localhost:8080/"
        }
      },
      "outputs": [
        {
          "output_type": "stream",
          "name": "stdout",
          "text": [
            "    case   price  size  new  taxes  bedrooms  baths\n",
            "0      1  419.85  2048    0   3104         4      2\n",
            "1      2  219.75   912    0   1173         2      1\n",
            "2      3  356.55  1654    0   3076         4      2\n",
            "3      4  300.00  2068    0   1608         3      2\n",
            "4      5  239.85  1477    0   1454         3      3\n",
            "..   ...     ...   ...  ...    ...       ...    ...\n",
            "95    96  264.00  1060    0    990         2      2\n",
            "96    97  294.75  1730    0   3030         3      2\n",
            "97    98  198.30  1370    0   1580         3      2\n",
            "98    99  132.60  1560    0   1770         3      2\n",
            "99    10  190.80  1340    0   1430         3      2\n",
            "\n",
            "[100 rows x 7 columns]\n"
          ]
        }
      ],
      "source": [
        "houses = pd.read_fwf(\"https://stat4ds.rwth-aachen.de/data/Houses.dat\")\n",
        "print(houses)"
      ]
    },
    {
      "cell_type": "markdown",
      "metadata": {
        "id": "ANDMQnnNCDJ_"
      },
      "source": [
        "Part a. Construct a scatterplot between square feet and price of a home."
      ]
    },
    {
      "cell_type": "code",
      "execution_count": null,
      "metadata": {
        "id": "NR78IlfS9UQL",
        "colab": {
          "base_uri": "https://localhost:8080/",
          "height": 489
        },
        "outputId": "2e29eb41-bfa6-471f-effb-6abfea52debd"
      },
      "outputs": [
        {
          "output_type": "execute_result",
          "data": {
            "text/plain": [
              "Text(0, 0.5, 'Price')"
            ]
          },
          "metadata": {},
          "execution_count": 9
        },
        {
          "output_type": "display_data",
          "data": {
            "text/plain": [
              "<Figure size 640x480 with 1 Axes>"
            ],
            "image/png": "[encoded data removed]"
          },
          "metadata": {}
        }
      ],
      "source": [
        "plt.scatter(houses['size'], houses['price'])\n",
        "plt.title(\"Scatterplot of square feet and price of a home\")\n",
        "plt.xlabel(\"Square Feet\")\n",
        "plt.ylabel(\"Price\")\n",
        "\n"
      ]
    },
    {
      "cell_type": "markdown",
      "metadata": {
        "id": "r3-QiSsACInq"
      },
      "source": [
        "Part b. Find the correlation between the two variables."
      ]
    },
    {
      "cell_type": "code",
      "execution_count": null,
      "metadata": {
        "id": "1Z9oP-T6CMdx",
        "colab": {
          "base_uri": "https://localhost:8080/"
        },
        "outputId": "5b236e0b-9fbf-4d17-94f3-72cf787f2ec5"
      },
      "outputs": [
        {
          "output_type": "stream",
          "name": "stdout",
          "text": [
            "Correlation between Square Feet and Price:\n",
            "0.8337847885586537\n"
          ]
        }
      ],
      "source": [
        "size = houses['size']\n",
        "price = houses['price']\n",
        "correlation = size.corr(price)\n",
        "print(\"Correlation between Square Feet and Price:\")\n",
        "print(correlation)"
      ]
    },
    {
      "cell_type": "markdown",
      "metadata": {
        "id": "nCTcEbFSCM6J"
      },
      "source": [
        "Part c. Find and plot the regression line on top of the scatterplot."
      ]
    },
    {
      "cell_type": "code",
      "execution_count": null,
      "metadata": {
        "id": "nE3BYT9fLMEF",
        "colab": {
          "base_uri": "https://localhost:8080/",
          "height": 489
        },
        "outputId": "1bc26011-240d-4a99-8141-40856591007f"
      },
      "outputs": [
        {
          "output_type": "execute_result",
          "data": {
            "text/plain": [
              "Text(0, 0.5, 'Price')"
            ]
          },
          "metadata": {},
          "execution_count": 11
        },
        {
          "output_type": "display_data",
          "data": {
            "text/plain": [
              "<Figure size 640x480 with 1 Axes>"
            ],
            "image/png": "[encoded data removed]"
          },
          "metadata": {}
        }
      ],
      "source": [
        "import seaborn as sns\n",
        "sns.regplot(x=houses['size'], y=houses['price'], ci=None) #ci none shows only the line, notging else\n",
        "plt.title(\"Scatterplot w/ Line of Best fit of Square Feet and Price of a Home\")\n",
        "plt.xlabel(\"Square Feet\")\n",
        "plt.ylabel(\"Price\")"
      ]
    },
    {
      "cell_type": "markdown",
      "metadata": {
        "id": "RX5rbyvQLMEF"
      },
      "source": [
        "Part d. Create a side by side boxplot of price comparing homes that are new and homes that are not new."
      ]
    },
    {
      "cell_type": "code",
      "execution_count": null,
      "metadata": {
        "id": "0qTLxjC_LMEF",
        "colab": {
          "base_uri": "https://localhost:8080/",
          "height": 562
        },
        "outputId": "d2d7917b-eb8f-4d40-95a6-774dea31ddaf"
      },
      "outputs": [
        {
          "output_type": "execute_result",
          "data": {
            "text/plain": [
              "Text(0, 0.5, 'Price')"
            ]
          },
          "metadata": {},
          "execution_count": 12
        },
        {
          "output_type": "display_data",
          "data": {
            "text/plain": [
              "<Figure size 600x600 with 1 Axes>"
            ],
            "image/png": "[encoded data removed]"
          },
          "metadata": {}
        }
      ],
      "source": [
        "new = houses[houses['new'] == 1]['price']\n",
        "not_new = houses[houses['new'] == 0]['price']\n",
        "\n",
        "\n",
        "fig, plot = plt.subplots(figsize=(6, 6))\n",
        "plot.boxplot([new, not_new], labels=['New Homes', 'Not New Homes'])\n",
        "\n",
        "plot.set_title('Comparibg Home Prices: New vs. Not New Homes')\n",
        "plot.set_ylabel('Price')\n"
      ]
    },
    {
      "cell_type": "markdown",
      "metadata": {
        "id": "zoEE0MhVLMEF"
      },
      "source": [
        "Part e. What is the relationship between size and price.  Justify your answer using the plots created. Do the same for the relationship between price and whether or not a house is new, again using the plot to justify your answer."
      ]
    },
    {
      "cell_type": "markdown",
      "metadata": {
        "id": "uWNFf571LMEF"
      },
      "source": [
        "**There is a strong positive linear correlation between the size (in sq feet) and the price.** This is shown by our having a correlation of +0.833 and we can visually see this in the scatterplot showing size and price, as well as from the line of best fit which is increasing and positive. As the size of the house increases the price also increases.\n",
        "\n",
        "For the relationship **between price and whether or not a house is new there is a strong a relationship between this.** New Homes surely do cost more on average than not new homes. This is hown by the box plot where we look at the price of new homes and not new homes. We see that the minimum is greater for new homes, the median is also greater in new homes, by more than double. The Q1 and Q3 are also greater in the new homes. Although Not New Homes has a few outliers that are equally high as new homes, we still see that on average and generally speaking New Homes cost more than not new homes. We can visually see the new homes are higher up on the graph compared to 'not new homes', which a higher y value means the price is higher."
      ]
    },
    {
      "cell_type": "markdown",
      "metadata": {
        "id": "QsOTfwzI9alX"
      },
      "source": [
        "**Problem 5**. Using the Happy data file read in by the following code. Construct the contingency table relating marital status and happiness."
      ]
    },
    {
      "cell_type": "code",
      "execution_count": null,
      "metadata": {
        "id": "p_kwSGNxLMEF",
        "colab": {
          "base_uri": "https://localhost:8080/"
        },
        "outputId": "d0a73a38-d67d-40ce-f307-83bca4a70d5f"
      },
      "outputs": [
        {
          "output_type": "stream",
          "name": "stdout",
          "text": [
            "Index(['subject', 'happiness', 'marital', 'gender'], dtype='object')\n",
            "      subject  happiness  marital  gender\n",
            "0           1          1        1    male\n",
            "1           2          1        1    male\n",
            "2           3          1        1    male\n",
            "3           4          1        1    male\n",
            "4           5          1        1    male\n",
            "...       ...        ...      ...     ...\n",
            "2137     2138          3        3  female\n",
            "2138     2139          3        3  female\n",
            "2139     2140          3        3  female\n",
            "2140     2141          3        3  female\n",
            "2141     2142          3        3  female\n",
            "\n",
            "[2142 rows x 4 columns]\n"
          ]
        }
      ],
      "source": [
        "happy = pd.read_csv(\"https://stat4ds.rwth-aachen.de/data/Happy.dat\", sep = \"\\\\s+\")\n",
        "print(happy.columns)\n",
        "print(happy)"
      ]
    },
    {
      "cell_type": "code",
      "source": [
        "contingency_table = pd.crosstab(happy['marital'], happy['happiness'])\n",
        "contingency_table"
      ],
      "metadata": {
        "id": "haOxeN-sDFsZ",
        "colab": {
          "base_uri": "https://localhost:8080/",
          "height": 175
        },
        "outputId": "01620443-d397-48d6-bccf-b2126c424c11"
      },
      "execution_count": null,
      "outputs": [
        {
          "output_type": "execute_result",
          "data": {
            "text/plain": [
              "happiness    1    2    3\n",
              "marital                 \n",
              "1          432  504   61\n",
              "2           92  282  103\n",
              "3          124  409  135"
            ],
            "text/html": [
              "\n",
              "  <div id=\"df-7497729a-e184-43f8-b437-d34dac69a7af\" class=\"colab-df-container\">\n",
              "    <div>\n",
              "<style scoped>\n",
              "    .dataframe tbody tr th:only-of-type {\n",
              "        vertical-align: middle;\n",
              "    }\n",
              "\n",
              "    .dataframe tbody tr th {\n",
              "        vertical-align: top;\n",
              "    }\n",
              "\n",
              "    .dataframe thead th {\n",
              "        text-align: right;\n",
              "    }\n",
              "</style>\n",
              "<table border=\"1\" class=\"dataframe\">\n",
              "  <thead>\n",
              "    <tr style=\"text-align: right;\">\n",
              "      <th>happiness</th>\n",
              "      <th>1</th>\n",
              "      <th>2</th>\n",
              "      <th>3</th>\n",
              "    </tr>\n",
              "    <tr>\n",
              "      <th>marital</th>\n",
              "      <th></th>\n",
              "      <th></th>\n",
              "      <th></th>\n",
              "    </tr>\n",
              "  </thead>\n",
              "  <tbody>\n",
              "    <tr>\n",
              "      <th>1</th>\n",
              "      <td>432</td>\n",
              "      <td>504</td>\n",
              "      <td>61</td>\n",
              "    </tr>\n",
              "    <tr>\n",
              "      <th>2</th>\n",
              "      <td>92</td>\n",
              "      <td>282</td>\n",
              "      <td>103</td>\n",
              "    </tr>\n",
              "    <tr>\n",
              "      <th>3</th>\n",
              "      <td>124</td>\n",
              "      <td>409</td>\n",
              "      <td>135</td>\n",
              "    </tr>\n",
              "  </tbody>\n",
              "</table>\n",
              "</div>\n",
              "    <div class=\"colab-df-buttons\">\n",
              "\n",
              "  <div class=\"colab-df-container\">\n",
              "    <button class=\"colab-df-convert\" onclick=\"convertToInteractive('df-7497729a-e184-43f8-b437-d34dac69a7af')\"\n",
              "            title=\"Convert this dataframe to an interactive table.\"\n",
              "            style=\"display:none;\">\n",
              "\n",
              "  <svg xmlns=\"http://www.w3.org/2000/svg\" height=\"24px\" viewBox=\"0 -960 960 960\">\n",
              "    <path d=\"M120-120v-720h720v720H120Zm60-500h600v-160H180v160Zm220 220h160v-160H400v160Zm0 220h160v-160H400v160ZM180-400h160v-160H180v160Zm440 0h160v-160H620v160ZM180-180h160v-160H180v160Zm440 0h160v-160H620v160Z\"/>\n",
              "  </svg>\n",
              "    </button>\n",
              "\n",
              "  <style>\n",
              "    .colab-df-container {\n",
              "      display:flex;\n",
              "      gap: 12px;\n",
              "    }\n",
              "\n",
              "    .colab-df-convert {\n",
              "      background-color: #E8F0FE;\n",
              "      border: none;\n",
              "      border-radius: 50%;\n",
              "      cursor: pointer;\n",
              "      display: none;\n",
              "      fill: #1967D2;\n",
              "      height: 32px;\n",
              "      padding: 0 0 0 0;\n",
              "      width: 32px;\n",
              "    }\n",
              "\n",
              "    .colab-df-convert:hover {\n",
              "      background-color: #E2EBFA;\n",
              "      box-shadow: 0px 1px 2px rgba(60, 64, 67, 0.3), 0px 1px 3px 1px rgba(60, 64, 67, 0.15);\n",
              "      fill: #174EA6;\n",
              "    }\n",
              "\n",
              "    .colab-df-buttons div {\n",
              "      margin-bottom: 4px;\n",
              "    }\n",
              "\n",
              "    [theme=dark] .colab-df-convert {\n",
              "      background-color: #3B4455;\n",
              "      fill: #D2E3FC;\n",
              "    }\n",
              "\n",
              "    [theme=dark] .colab-df-convert:hover {\n",
              "      background-color: #434B5C;\n",
              "      box-shadow: 0px 1px 3px 1px rgba(0, 0, 0, 0.15);\n",
              "      filter: drop-shadow(0px 1px 2px rgba(0, 0, 0, 0.3));\n",
              "      fill: #FFFFFF;\n",
              "    }\n",
              "  </style>\n",
              "\n",
              "    <script>\n",
              "      const buttonEl =\n",
              "        document.querySelector('#df-7497729a-e184-43f8-b437-d34dac69a7af button.colab-df-convert');\n",
              "      buttonEl.style.display =\n",
              "        google.colab.kernel.accessAllowed ? 'block' : 'none';\n",
              "\n",
              "      async function convertToInteractive(key) {\n",
              "        const element = document.querySelector('#df-7497729a-e184-43f8-b437-d34dac69a7af');\n",
              "        const dataTable =\n",
              "          await google.colab.kernel.invokeFunction('convertToInteractive',\n",
              "                                                    [key], {});\n",
              "        if (!dataTable) return;\n",
              "\n",
              "        const docLinkHtml = 'Like what you see? Visit the ' +\n",
              "          '<a target=\"_blank\" href=https://colab.research.google.com/notebooks/data_table.ipynb>data table notebook</a>'\n",
              "          + ' to learn more about interactive tables.';\n",
              "        element.innerHTML = '';\n",
              "        dataTable['output_type'] = 'display_data';\n",
              "        await google.colab.output.renderOutput(dataTable, element);\n",
              "        const docLink = document.createElement('div');\n",
              "        docLink.innerHTML = docLinkHtml;\n",
              "        element.appendChild(docLink);\n",
              "      }\n",
              "    </script>\n",
              "  </div>\n",
              "\n",
              "\n",
              "<div id=\"df-95171ce8-e776-4580-a44b-36c28b11cbba\">\n",
              "  <button class=\"colab-df-quickchart\" onclick=\"quickchart('df-95171ce8-e776-4580-a44b-36c28b11cbba')\"\n",
              "            title=\"Suggest charts\"\n",
              "            style=\"display:none;\">\n",
              "\n",
              "<svg xmlns=\"http://www.w3.org/2000/svg\" height=\"24px\"viewBox=\"0 0 24 24\"\n",
              "     width=\"24px\">\n",
              "    <g>\n",
              "        <path d=\"M19 3H5c-1.1 0-2 .9-2 2v14c0 1.1.9 2 2 2h14c1.1 0 2-.9 2-2V5c0-1.1-.9-2-2-2zM9 17H7v-7h2v7zm4 0h-2V7h2v10zm4 0h-2v-4h2v4z\"/>\n",
              "    </g>\n",
              "</svg>\n",
              "  </button>\n",
              "\n",
              "<style>\n",
              "  .colab-df-quickchart {\n",
              "      --bg-color: #E8F0FE;\n",
              "      --fill-color: #1967D2;\n",
              "      --hover-bg-color: #E2EBFA;\n",
              "      --hover-fill-color: #174EA6;\n",
              "      --disabled-fill-color: #AAA;\n",
              "      --disabled-bg-color: #DDD;\n",
              "  }\n",
              "\n",
              "  [theme=dark] .colab-df-quickchart {\n",
              "      --bg-color: #3B4455;\n",
              "      --fill-color: #D2E3FC;\n",
              "      --hover-bg-color: #434B5C;\n",
              "      --hover-fill-color: #FFFFFF;\n",
              "      --disabled-bg-color: #3B4455;\n",
              "      --disabled-fill-color: #666;\n",
              "  }\n",
              "\n",
              "  .colab-df-quickchart {\n",
              "    background-color: var(--bg-color);\n",
              "    border: none;\n",
              "    border-radius: 50%;\n",
              "    cursor: pointer;\n",
              "    display: none;\n",
              "    fill: var(--fill-color);\n",
              "    height: 32px;\n",
              "    padding: 0;\n",
              "    width: 32px;\n",
              "  }\n",
              "\n",
              "  .colab-df-quickchart:hover {\n",
              "    background-color: var(--hover-bg-color);\n",
              "    box-shadow: 0 1px 2px rgba(60, 64, 67, 0.3), 0 1px 3px 1px rgba(60, 64, 67, 0.15);\n",
              "    fill: var(--button-hover-fill-color);\n",
              "  }\n",
              "\n",
              "  .colab-df-quickchart-complete:disabled,\n",
              "  .colab-df-quickchart-complete:disabled:hover {\n",
              "    background-color: var(--disabled-bg-color);\n",
              "    fill: var(--disabled-fill-color);\n",
              "    box-shadow: none;\n",
              "  }\n",
              "\n",
              "  .colab-df-spinner {\n",
              "    border: 2px solid var(--fill-color);\n",
              "    border-color: transparent;\n",
              "    border-bottom-color: var(--fill-color);\n",
              "    animation:\n",
              "      spin 1s steps(1) infinite;\n",
              "  }\n",
              "\n",
              "  @keyframes spin {\n",
              "    0% {\n",
              "      border-color: transparent;\n",
              "      border-bottom-color: var(--fill-color);\n",
              "      border-left-color: var(--fill-color);\n",
              "    }\n",
              "    20% {\n",
              "      border-color: transparent;\n",
              "      border-left-color: var(--fill-color);\n",
              "      border-top-color: var(--fill-color);\n",
              "    }\n",
              "    30% {\n",
              "      border-color: transparent;\n",
              "      border-left-color: var(--fill-color);\n",
              "      border-top-color: var(--fill-color);\n",
              "      border-right-color: var(--fill-color);\n",
              "    }\n",
              "    40% {\n",
              "      border-color: transparent;\n",
              "      border-right-color: var(--fill-color);\n",
              "      border-top-color: var(--fill-color);\n",
              "    }\n",
              "    60% {\n",
              "      border-color: transparent;\n",
              "      border-right-color: var(--fill-color);\n",
              "    }\n",
              "    80% {\n",
              "      border-color: transparent;\n",
              "      border-right-color: var(--fill-color);\n",
              "      border-bottom-color: var(--fill-color);\n",
              "    }\n",
              "    90% {\n",
              "      border-color: transparent;\n",
              "      border-bottom-color: var(--fill-color);\n",
              "    }\n",
              "  }\n",
              "</style>\n",
              "\n",
              "  <script>\n",
              "    async function quickchart(key) {\n",
              "      const quickchartButtonEl =\n",
              "        document.querySelector('#' + key + ' button');\n",
              "      quickchartButtonEl.disabled = true;  // To prevent multiple clicks.\n",
              "      quickchartButtonEl.classList.add('colab-df-spinner');\n",
              "      try {\n",
              "        const charts = await google.colab.kernel.invokeFunction(\n",
              "            'suggestCharts', [key], {});\n",
              "      } catch (error) {\n",
              "        console.error('Error during call to suggestCharts:', error);\n",
              "      }\n",
              "      quickchartButtonEl.classList.remove('colab-df-spinner');\n",
              "      quickchartButtonEl.classList.add('colab-df-quickchart-complete');\n",
              "    }\n",
              "    (() => {\n",
              "      let quickchartButtonEl =\n",
              "        document.querySelector('#df-95171ce8-e776-4580-a44b-36c28b11cbba button');\n",
              "      quickchartButtonEl.style.display =\n",
              "        google.colab.kernel.accessAllowed ? 'block' : 'none';\n",
              "    })();\n",
              "  </script>\n",
              "</div>\n",
              "\n",
              "  <div id=\"id_be6bb04d-4845-4971-beee-169956086b78\">\n",
              "    <style>\n",
              "      .colab-df-generate {\n",
              "        background-color: #E8F0FE;\n",
              "        border: none;\n",
              "        border-radius: 50%;\n",
              "        cursor: pointer;\n",
              "        display: none;\n",
              "        fill: #1967D2;\n",
              "        height: 32px;\n",
              "        padding: 0 0 0 0;\n",
              "        width: 32px;\n",
              "      }\n",
              "\n",
              "      .colab-df-generate:hover {\n",
              "        background-color: #E2EBFA;\n",
              "        box-shadow: 0px 1px 2px rgba(60, 64, 67, 0.3), 0px 1px 3px 1px rgba(60, 64, 67, 0.15);\n",
              "        fill: #174EA6;\n",
              "      }\n",
              "\n",
              "      [theme=dark] .colab-df-generate {\n",
              "        background-color: #3B4455;\n",
              "        fill: #D2E3FC;\n",
              "      }\n",
              "\n",
              "      [theme=dark] .colab-df-generate:hover {\n",
              "        background-color: #434B5C;\n",
              "        box-shadow: 0px 1px 3px 1px rgba(0, 0, 0, 0.15);\n",
              "        filter: drop-shadow(0px 1px 2px rgba(0, 0, 0, 0.3));\n",
              "        fill: #FFFFFF;\n",
              "      }\n",
              "    </style>\n",
              "    <button class=\"colab-df-generate\" onclick=\"generateWithVariable('contingency_table')\"\n",
              "            title=\"Generate code using this dataframe.\"\n",
              "            style=\"display:none;\">\n",
              "\n",
              "  <svg xmlns=\"http://www.w3.org/2000/svg\" height=\"24px\"viewBox=\"0 0 24 24\"\n",
              "       width=\"24px\">\n",
              "    <path d=\"M7,19H8.4L18.45,9,17,7.55,7,17.6ZM5,21V16.75L18.45,3.32a2,2,0,0,1,2.83,0l1.4,1.43a1.91,1.91,0,0,1,.58,1.4,1.91,1.91,0,0,1-.58,1.4L9.25,21ZM18.45,9,17,7.55Zm-12,3A5.31,5.31,0,0,0,4.9,8.1,5.31,5.31,0,0,0,1,6.5,5.31,5.31,0,0,0,4.9,4.9,5.31,5.31,0,0,0,6.5,1,5.31,5.31,0,0,0,8.1,4.9,5.31,5.31,0,0,0,12,6.5,5.46,5.46,0,0,0,6.5,12Z\"/>\n",
              "  </svg>\n",
              "    </button>\n",
              "    <script>\n",
              "      (() => {\n",
              "      const buttonEl =\n",
              "        document.querySelector('#id_be6bb04d-4845-4971-beee-169956086b78 button.colab-df-generate');\n",
              "      buttonEl.style.display =\n",
              "        google.colab.kernel.accessAllowed ? 'block' : 'none';\n",
              "\n",
              "      buttonEl.onclick = () => {\n",
              "        google.colab.notebook.generateWithVariable('contingency_table');\n",
              "      }\n",
              "      })();\n",
              "    </script>\n",
              "  </div>\n",
              "\n",
              "    </div>\n",
              "  </div>\n"
            ],
            "application/vnd.google.colaboratory.intrinsic+json": {
              "type": "dataframe",
              "variable_name": "contingency_table",
              "summary": "{\n  \"name\": \"contingency_table\",\n  \"rows\": 3,\n  \"fields\": [\n    {\n      \"column\": \"marital\",\n      \"properties\": {\n        \"dtype\": \"number\",\n        \"std\": 1,\n        \"min\": 1,\n        \"max\": 3,\n        \"num_unique_values\": 3,\n        \"samples\": [\n          1,\n          2,\n          3\n        ],\n        \"semantic_type\": \"\",\n        \"description\": \"\"\n      }\n    },\n    {\n      \"column\": 1,\n      \"properties\": {\n        \"dtype\": \"number\",\n        \"std\": 187,\n        \"min\": 92,\n        \"max\": 432,\n        \"num_unique_values\": 3,\n        \"samples\": [\n          432,\n          92,\n          124\n        ],\n        \"semantic_type\": \"\",\n        \"description\": \"\"\n      }\n    },\n    {\n      \"column\": 2,\n      \"properties\": {\n        \"dtype\": \"number\",\n        \"std\": 111,\n        \"min\": 282,\n        \"max\": 504,\n        \"num_unique_values\": 3,\n        \"samples\": [\n          504,\n          282,\n          409\n        ],\n        \"semantic_type\": \"\",\n        \"description\": \"\"\n      }\n    },\n    {\n      \"column\": 3,\n      \"properties\": {\n        \"dtype\": \"number\",\n        \"std\": 37,\n        \"min\": 61,\n        \"max\": 135,\n        \"num_unique_values\": 3,\n        \"samples\": [\n          61,\n          103,\n          135\n        ],\n        \"semantic_type\": \"\",\n        \"description\": \"\"\n      }\n    }\n  ]\n}"
            }
          },
          "metadata": {},
          "execution_count": 25
        }
      ]
    },
    {
      "cell_type": "code",
      "source": [],
      "metadata": {
        "id": "1GDTNO-67V0E"
      },
      "execution_count": null,
      "outputs": []
    }
  ],
  "metadata": {
    "colab": {
      "provenance": []
    },
    "kernelspec": {
      "display_name": "Python 3",
      "name": "python3"
    },
    "language_info": {
      "codemirror_mode": {
        "name": "ipython",
        "version": 3
      },
      "file_extension": ".py",
      "mimetype": "text/x-python",
      "name": "python",
      "nbconvert_exporter": "python",
      "pygments_lexer": "ipython3",
      "version": "3.9.6"
    }
  },
  "nbformat": 4,
  "nbformat_minor": 0
}